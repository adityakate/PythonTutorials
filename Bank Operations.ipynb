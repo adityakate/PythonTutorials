{
 "cells": [
  {
   "cell_type": "code",
   "execution_count": 2,
   "metadata": {},
   "outputs": [],
   "source": [
    "import logging\n",
    "logging.basicConfig(filename='bank.log', level=logging.INFO)\n",
    "\n",
    "#Class Bank Account : Performes basic bank operations like withdraw,deposit and checking balance\n",
    "class BankAccount:\n",
    "    \n",
    "    #logger = logging.getLogger('logger')\n",
    "    \n",
    "\n",
    "    \n",
    "    def __init__(self,fullName,pan,balance=100):\n",
    "        self.fullName = fullName\n",
    "        self.pan = pan\n",
    "        self.balance = balance\n",
    "        self.txnList = []\n",
    "    \n",
    "    # Get Full Name\n",
    "    def getFullName(self):\n",
    "        return self.fullName\n",
    "    \n",
    "    # Get PAN\n",
    "    def getPan(self):\n",
    "        return self.pan\n",
    "    \n",
    "    # Set Full Name\n",
    "    def setFullName(self,name):\n",
    "        self.fullName = name\n",
    "    \n",
    "    # Check balance\n",
    "    def getBalance(self):\n",
    "        return self.balance\n",
    "    \n",
    "    # Set PAN\n",
    "    def setPan(self,pan):\n",
    "        self.pan = pan\n",
    "    \n",
    "    # Set balance\n",
    "    def setBalance(self,balance):\n",
    "        self.balance = balance\n",
    "    \n",
    "    # Withdraw Amount from account\n",
    "    def withdraw(self,amount):\n",
    "        print(\"Start withdraw\")\n",
    "        if(amount > 0):\n",
    "            if self.balance >= amount:\n",
    "                self.balance = self.balance - amount\n",
    "                print(\"After withdraw \",amount,\" current balance amount : \",self.balance)\n",
    "                self.txnList.append(\"DR amount : \"+str(amount)+\" Current balance : \"+str(self.balance))\n",
    "                return self.balance\n",
    "            else:\n",
    "                print(\"Amount \",amount,\" is greater than balance amount \",self.balance,\". Txn failure\")\n",
    "                print(\"Current balance amount : \",self.balance)\n",
    "                self.txnList.append(\"DR amount : \"+str(amount)+\" Amount more than existing balance.Txn failure\")\n",
    "                return self.balance\n",
    "        else:\n",
    "            print(\"Amount less than ZERO. Please provide proper amount\")\n",
    "            return self.balance\n",
    "    \n",
    "    #Deposite amount in account\n",
    "    def deposit(self,amount):\n",
    "        print(\"Start Deposit\")\n",
    "        \n",
    "        if(amount > 0):\n",
    "            self.balance = self.balance + amount\n",
    "            self.txnList.append(\"CR amount : \"+str(amount)+\" Current balance : \"+str(self.balance))\n",
    "            print(\"After depositing amount \",amount,\" Current balance amount : \",self.balance)\n",
    "            return self.balance\n",
    "        else:\n",
    "            print(\"Amount less than ZERO. Please provide proper amount\")\n",
    "            return self.balance\n",
    "        \n",
    "    \n",
    "    # Get ministatement for last 5 transactions\n",
    "    def ministatement(self):\n",
    "        logging.info(\"Start ministatement\")\n",
    "        if len(self.txnList) == 0 :\n",
    "            self.txnList.append(\"No transactions done\")\n",
    "            return self.txnList\n",
    "        elif len(self.txnList) >= 5 :\n",
    "            return self.txnList[-5]\n",
    "        else :\n",
    "            return self.txnList        \n",
    "    "
   ]
  },
  {
   "cell_type": "code",
   "execution_count": 4,
   "metadata": {},
   "outputs": [],
   "source": [
    "acc1 = BankAccount('Aditya','AXE',200)\n",
    "acc2 = BankAccount('Amit','LMN')"
   ]
  },
  {
   "cell_type": "code",
   "execution_count": 5,
   "metadata": {},
   "outputs": [
    {
     "name": "stdout",
     "output_type": "stream",
     "text": [
      "Aditya\n",
      "AXE\n",
      "Start withdraw\n",
      "After withdraw  50  current balance amount :  150\n",
      "150\n",
      "['No transactions done']\n"
     ]
    }
   ],
   "source": [
    "print(acc1.getFullName())\n",
    "print(acc1.getPan())\n",
    "print(acc1.withdraw(50))\n",
    "print(acc2.ministatement())"
   ]
  }
 ],
 "metadata": {
  "kernelspec": {
   "display_name": "Python 3",
   "language": "python",
   "name": "python3"
  },
  "language_info": {
   "codemirror_mode": {
    "name": "ipython",
    "version": 3
   },
   "file_extension": ".py",
   "mimetype": "text/x-python",
   "name": "python",
   "nbconvert_exporter": "python",
   "pygments_lexer": "ipython3",
   "version": "3.6.5"
  }
 },
 "nbformat": 4,
 "nbformat_minor": 2
}
